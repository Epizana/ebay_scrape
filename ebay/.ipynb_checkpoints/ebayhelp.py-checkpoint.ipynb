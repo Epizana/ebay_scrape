{
 "cells": [
  {
   "cell_type": "code",
   "execution_count": null,
   "metadata": {},
   "outputs": [],
   "source": [
    "def ebay_helper(df):\n",
    "    \n",
    "    ebay1['brand'] = np.where(ebay1['brand'].str.contains('Hasbro|hasbro|HASBRO|Toy Biz|Transformers|G1|ToyBiz|G.I. Joe|GI Joe|Hasbri|HABRO|H a s b r o',regex = True), 'Hasbro',ebay1['brand'])"
   ]
  }
 ],
 "metadata": {
  "kernelspec": {
   "display_name": "Python 3",
   "language": "python",
   "name": "python3"
  },
  "language_info": {
   "codemirror_mode": {
    "name": "ipython",
    "version": 3
   },
   "file_extension": ".py",
   "mimetype": "text/x-python",
   "name": "python",
   "nbconvert_exporter": "python",
   "pygments_lexer": "ipython3",
   "version": "3.7.3"
  }
 },
 "nbformat": 4,
 "nbformat_minor": 2
}
